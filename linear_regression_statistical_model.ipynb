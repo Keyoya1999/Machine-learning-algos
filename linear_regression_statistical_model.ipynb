{
  "nbformat": 4,
  "nbformat_minor": 0,
  "metadata": {
    "colab": {
      "name": "linear regression statistical model.ipynb",
      "version": "0.3.2",
      "views": {},
      "default_view": {},
      "provenance": [],
      "collapsed_sections": []
    },
    "kernelspec": {
      "name": "python3",
      "display_name": "Python 3"
    }
  },
  "cells": [
    {
      "metadata": {
        "id": "ofBlfOxpoHLu",
        "colab_type": "code",
        "colab": {
          "autoexec": {
            "startup": false,
            "wait_interval": 0
          }
        }
      },
      "cell_type": "code",
      "source": [
        ""
      ],
      "execution_count": 0,
      "outputs": []
    },
    {
      "metadata": {
        "id": "lVcuExYbmw4N",
        "colab_type": "code",
        "colab": {
          "autoexec": {
            "startup": false,
            "wait_interval": 0
          }
        }
      },
      "cell_type": "code",
      "source": [
        "import numpy as np \n",
        "import matplotlib.pyplot as plt\n"
      ],
      "execution_count": 0,
      "outputs": []
    },
    {
      "metadata": {
        "id": "Z4rHYBtUqiru",
        "colab_type": "code",
        "colab": {
          "autoexec": {
            "startup": false,
            "wait_interval": 0
          }
        }
      },
      "cell_type": "code",
      "source": [
        "def estimate_coeff(x, y):\n",
        "  n=np.size(x)\n",
        "  mx ,my =np.mean(x) , np.mean(y)\n",
        "  \n",
        "  ss_xy = np.sum(y*x) - n*my*mx      #calculating  cross variance about x and y\n",
        "  \n",
        "  ss_xx = np.sum(x*x) - n*mx*mx      #calculating  cross variance about x\n",
        "  \n",
        "  b_1 = ss_xy/ss_xx\n",
        "  b_0 = my - b_1*mx\n",
        "  \n",
        "  return(b_1,b_0)\n",
        "\n",
        "\n",
        "\n"
      ],
      "execution_count": 0,
      "outputs": []
    },
    {
      "metadata": {
        "id": "ICGVsAwUyBJH",
        "colab_type": "code",
        "colab": {
          "autoexec": {
            "startup": false,
            "wait_interval": 0
          }
        }
      },
      "cell_type": "code",
      "source": [
        "def plot(x,y,b):\n",
        "  plt.scatter(x, y, color = \"m\",\n",
        "               marker = \"o\", s = 30)\n",
        "    # predicted response vector\n",
        "  y_pred = b[1] + b[0]*x\n",
        "    # plotting the regression line\n",
        "  plt.plot(x, y_pred, color = \"r\")\n",
        "  plt.plot(x,y,color =\"g\")\n",
        "  plt.xlabel(\"x\")\n",
        "  plt.ylabel(\"y\")\n",
        "  \n",
        "  plt.show()\n",
        "  \n",
        "  "
      ],
      "execution_count": 0,
      "outputs": []
    },
    {
      "metadata": {
        "id": "QRMtAC9H1Lr-",
        "colab_type": "code",
        "colab": {
          "autoexec": {
            "startup": false,
            "wait_interval": 0
          }
        }
      },
      "cell_type": "code",
      "source": [
        "def predict(c,m,x):\n",
        "  lin= m*x + c\n",
        "  print(\"the predicted value is =\",lin)\n",
        "  "
      ],
      "execution_count": 0,
      "outputs": []
    },
    {
      "metadata": {
        "id": "G2Rzatg8yfvw",
        "colab_type": "code",
        "colab": {
          "autoexec": {
            "startup": false,
            "wait_interval": 0
          },
          "base_uri": "https://localhost:8080/",
          "height": 412
        },
        "outputId": "f511a33a-ce68-4fd3-b21c-28ba6c974b17",
        "executionInfo": {
          "status": "ok",
          "timestamp": 1528191399595,
          "user_tz": -330,
          "elapsed": 63118,
          "user": {
            "displayName": "Mrinal Anand",
            "photoUrl": "https://lh3.googleusercontent.com/a/default-user=s128",
            "userId": "112983029241933201690"
          }
        }
      },
      "cell_type": "code",
      "source": [
        "x=np.array([0,1,2,3,4,5,6,7,8])\n",
        "y=np.array([1,3,2,4,6,9,8,7,8])\n",
        "  \n",
        "b=estimate_coeff(x,y)\n",
        "print(b[0],b[1])\n",
        "plot(x,y,b)\n",
        "\n",
        "line=float(input(\"the value to be predicted\"))\n",
        "predict(float(b[0]),float(b[1]),line)"
      ],
      "execution_count": 7,
      "outputs": [
        {
          "output_type": "stream",
          "text": [
            "0.95 1.5333333333333332\n"
          ],
          "name": "stdout"
        },
        {
          "output_type": "display_data",
          "data": {
            "image/png": "[encoded data removed]",
            "text/plain": [
              "<matplotlib.figure.Figure at 0x7fdcb4d4f198>"
            ]
          },
          "metadata": {
            "tags": []
          }
        },
        {
          "output_type": "stream",
          "text": [
            "the value to be predicted10\n",
            "the predicted value is = 16.28333333333333\n"
          ],
          "name": "stdout"
        }
      ]
    },
    {
      "metadata": {
        "id": "6CoRy8wAzMXZ",
        "colab_type": "code",
        "colab": {
          "autoexec": {
            "startup": false,
            "wait_interval": 0
          }
        }
      },
      "cell_type": "code",
      "source": [
        "_"
      ],
      "execution_count": 0,
      "outputs": []
    }
  ]
}